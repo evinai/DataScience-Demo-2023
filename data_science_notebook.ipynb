{
  "nbformat": 4,
  "nbformat_minor": 0,
  "metadata": {
    "colab": {
      "provenance": [],
      "authorship_tag": "ABX9TyMSwAnvBHDmewIsN9Sjt7Vp",
      "include_colab_link": true
    },
    "kernelspec": {
      "name": "python3",
      "display_name": "Python 3"
    },
    "language_info": {
      "name": "python"
    }
  },
  "cells": [
    {
      "cell_type": "markdown",
      "metadata": {
        "id": "view-in-github",
        "colab_type": "text"
      },
      "source": [
        "<a href=\"https://colab.research.google.com/github/evinai/DataScience-Demo-2023/blob/main/data_science_notebook.ipynb\" target=\"_parent\"><img src=\"https://colab.research.google.com/assets/colab-badge.svg\" alt=\"Open In Colab\"/></a>"
      ]
    },
    {
      "cell_type": "markdown",
      "source": [
        "Ingest"
      ],
      "metadata": {
        "id": "zemF_TbqMc0v"
      }
    },
    {
      "cell_type": "code",
      "execution_count": 1,
      "metadata": {
        "id": "Lc8Pqqa1KgrY"
      },
      "outputs": [],
      "source": []
    },
    {
      "cell_type": "markdown",
      "source": [
        "EDA"
      ],
      "metadata": {
        "id": "VE9R2DCOMgYv"
      }
    },
    {
      "cell_type": "code",
      "source": [],
      "metadata": {
        "id": "t0QszPo6MfXK"
      },
      "execution_count": 1,
      "outputs": []
    },
    {
      "cell_type": "markdown",
      "source": [
        "Modeling"
      ],
      "metadata": {
        "id": "9p-no_10MnpV"
      }
    },
    {
      "cell_type": "markdown",
      "source": [
        "#### Classification Algorithm A"
      ],
      "metadata": {
        "id": "PELIZ2iUM1ip"
      }
    },
    {
      "cell_type": "markdown",
      "source": [
        "Classification Algorithm B"
      ],
      "metadata": {
        "id": "DFX7Kda1M7Zd"
      }
    },
    {
      "cell_type": "code",
      "source": [],
      "metadata": {
        "id": "Ml5vZwimMo-5"
      },
      "execution_count": 1,
      "outputs": []
    },
    {
      "cell_type": "markdown",
      "source": [
        "Conclusion"
      ],
      "metadata": {
        "id": "du3HR22gMqpi"
      }
    },
    {
      "cell_type": "code",
      "source": [],
      "metadata": {
        "id": "gs2-a5LVMsIh"
      },
      "execution_count": 1,
      "outputs": []
    }
  ]
}